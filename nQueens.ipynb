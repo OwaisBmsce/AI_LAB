{
  "nbformat": 4,
  "nbformat_minor": 0,
  "metadata": {
    "colab": {
      "provenance": [],
      "authorship_tag": "ABX9TyMxhCdvWlMtlXstJzMR36LP",
      "include_colab_link": true
    },
    "kernelspec": {
      "name": "python3",
      "display_name": "Python 3"
    },
    "language_info": {
      "name": "python"
    }
  },
  "cells": [
    {
      "cell_type": "markdown",
      "metadata": {
        "id": "view-in-github",
        "colab_type": "text"
      },
      "source": [
        "<a href=\"https://colab.research.google.com/github/OwaisBmsce/AI_LAB/blob/main/nQueens.ipynb\" target=\"_parent\"><img src=\"https://colab.research.google.com/assets/colab-badge.svg\" alt=\"Open In Colab\"/></a>"
      ]
    },
    {
      "cell_type": "code",
      "execution_count": 7,
      "metadata": {
        "colab": {
          "base_uri": "https://localhost:8080/"
        },
        "id": "qCMkWCOvLRKm",
        "outputId": "c538caff-9908-4d1d-fc19-431039a1e041"
      },
      "outputs": [
        {
          "output_type": "stream",
          "name": "stdout",
          "text": [
            "Step 0: [2, 0, 4, 0, 2] (Heuristic=4)\n",
            " .  Q  .  Q  . \n",
            " .  .  .  .  . \n",
            " Q  .  .  .  Q \n",
            " .  .  .  .  . \n",
            " .  .  Q  .  . \n",
            "\n",
            "\n",
            "Step 1: [2, 0, 3, 0, 2] (Heuristic=2)\n",
            " .  Q  .  Q  . \n",
            " .  .  .  .  . \n",
            " Q  .  .  .  Q \n",
            " .  .  Q  .  . \n",
            " .  .  .  .  . \n",
            "\n",
            "\n",
            "Step 2: [4, 0, 3, 0, 2] (Heuristic=1)\n",
            " .  Q  .  Q  . \n",
            " .  .  .  .  . \n",
            " .  .  .  .  Q \n",
            " .  .  Q  .  . \n",
            " Q  .  .  .  . \n",
            "\n",
            "\n",
            "Step 3: [4, 1, 3, 0, 2] (Heuristic=0)\n",
            " .  .  .  Q  . \n",
            " .  Q  .  .  . \n",
            " .  .  .  .  Q \n",
            " .  .  Q  .  . \n",
            " Q  .  .  .  . \n",
            "\n",
            "\n",
            "Solution found!\n"
          ]
        }
      ],
      "source": [
        "import random\n",
        "\n",
        "N = 5\n",
        "\n",
        "def print_board(state):\n",
        "    for row in range(N):\n",
        "        line = \"\"\n",
        "        for col in range(N):\n",
        "            if state[col] == row:\n",
        "                line += \" Q \"\n",
        "            else:\n",
        "                line += \" . \"\n",
        "        print(line)\n",
        "    print(\"\\n\")\n",
        "\n",
        "# Heuristic function: number of pairs of queens attacking each other\n",
        "def heuristic(state):\n",
        "    h = 0\n",
        "    for i in range(N):\n",
        "        for j in range(i+1, N):\n",
        "            if state[i] == state[j] or abs(state[i]-state[j]) == abs(i-j):\n",
        "                h += 1\n",
        "    return h\n",
        "\n",
        "# Hill climbing algorithm\n",
        "def hill_climbing():\n",
        "    # Random initial state\n",
        "    current = [random.randint(0, N-1) for _ in range(N)]\n",
        "    steps = 0\n",
        "\n",
        "    while True:\n",
        "        print(f\"Step {steps}: {current} (Heuristic={heuristic(current)})\")\n",
        "        print_board(current)\n",
        "        if heuristic(current) == 0:\n",
        "            print(\"Solution found!\")\n",
        "            return current\n",
        "\n",
        "        neighbors = []\n",
        "        for col in range(N):\n",
        "            for row in range(N):\n",
        "                if row != current[col]:\n",
        "                    neighbor = list(current)\n",
        "                    neighbor[col] = row\n",
        "                    neighbors.append(neighbor)\n",
        "\n",
        "        # Choose the neighbor with the lowest heuristic\n",
        "        current = min(neighbors, key=heuristic)\n",
        "        steps += 1\n",
        "\n",
        "        # If no improvement, restart\n",
        "        if heuristic(current) >= heuristic(neighbors[0]):\n",
        "            print(\"Stuck in local maxima, restarting...\\n\")\n",
        "            current = [random.randint(0, N-1) for _ in range(N)]\n",
        "            steps = 0\n",
        "\n",
        "# Run the algorithm\n",
        "solution = hill_climbing()"
      ]
    }
  ]
}