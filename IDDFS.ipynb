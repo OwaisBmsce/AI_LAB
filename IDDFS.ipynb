{
  "nbformat": 4,
  "nbformat_minor": 0,
  "metadata": {
    "colab": {
      "provenance": [],
      "authorship_tag": "ABX9TyOZXq3AeamsRCKB2IJ9JJyt",
      "include_colab_link": true
    },
    "kernelspec": {
      "name": "python3",
      "display_name": "Python 3"
    },
    "language_info": {
      "name": "python"
    }
  },
  "cells": [
    {
      "cell_type": "markdown",
      "metadata": {
        "id": "view-in-github",
        "colab_type": "text"
      },
      "source": [
        "<a href=\"https://colab.research.google.com/github/OwaisBmsce/AI_LAB/blob/main/IDDFS.ipynb\" target=\"_parent\"><img src=\"https://colab.research.google.com/assets/colab-badge.svg\" alt=\"Open In Colab\"/></a>"
      ]
    },
    {
      "cell_type": "code",
      "execution_count": 2,
      "metadata": {
        "colab": {
          "base_uri": "https://localhost:8080/"
        },
        "id": "Ftm1bUKdMroD",
        "outputId": "f474adb1-28a3-4498-fc6c-96a2493fd63d"
      },
      "outputs": [
        {
          "output_type": "stream",
          "name": "stdout",
          "text": [
            "\n",
            "--- Searching with Depth Limit: 0 ---\n",
            "Visiting Node: A, Depth Limit: 0, Path: ['A']\n",
            "\n",
            "--- Searching with Depth Limit: 1 ---\n",
            "Visiting Node: A, Depth Limit: 1, Path: ['A']\n",
            "Visiting Node: B, Depth Limit: 0, Path: ['A', 'B']\n",
            "Visiting Node: C, Depth Limit: 0, Path: ['A', 'C']\n",
            "\n",
            "--- Searching with Depth Limit: 2 ---\n",
            "Visiting Node: A, Depth Limit: 2, Path: ['A']\n",
            "Visiting Node: B, Depth Limit: 1, Path: ['A', 'B']\n",
            "Visiting Node: D, Depth Limit: 0, Path: ['A', 'B', 'D']\n",
            "Visiting Node: E, Depth Limit: 0, Path: ['A', 'B', 'E']\n",
            "\n",
            "Goal 'E' found at depth 2!\n"
          ]
        },
        {
          "output_type": "execute_result",
          "data": {
            "text/plain": [
              "True"
            ]
          },
          "metadata": {},
          "execution_count": 2
        }
      ],
      "source": [
        "# Graph represented as adjacency list\n",
        "graph = {\n",
        "    'A': ['B', 'C'],\n",
        "    'B': ['D', 'E'],\n",
        "    'C': ['F', 'G'],\n",
        "    'D': [],\n",
        "    'E': [],\n",
        "    'F': [],\n",
        "    'G': []\n",
        "}\n",
        "\n",
        "goal = 'E'\n",
        "\n",
        "# Depth-Limited Search (DLS) with step printing\n",
        "def DLS(node, goal, depth, path=[]):\n",
        "    path = path + [node]\n",
        "    print(f\"Visiting Node: {node}, Depth Limit: {depth}, Path: {path}\")\n",
        "\n",
        "    if node == goal:\n",
        "        return True\n",
        "    if depth <= 0:\n",
        "        return False\n",
        "\n",
        "    for child in graph.get(node, []):\n",
        "        if DLS(child, goal, depth - 1, path):\n",
        "            return True\n",
        "    return False\n",
        "\n",
        "# Iterative Deepening DFS\n",
        "def IDDFS(start, goal, max_depth):\n",
        "    for depth in range(max_depth + 1):\n",
        "        print(f\"\\n--- Searching with Depth Limit: {depth} ---\")\n",
        "        found = DLS(start, goal, depth)\n",
        "        if found:\n",
        "            print(f\"\\nGoal '{goal}' found at depth {depth}!\")\n",
        "            return True\n",
        "    print(f\"\\nGoal '{goal}' not found within depth {max_depth}\")\n",
        "    return False\n",
        "\n",
        "# Run IDDFS\n",
        "IDDFS('A', goal, 5)"
      ]
    }
  ]
}